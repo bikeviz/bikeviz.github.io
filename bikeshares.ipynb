{
 "cells": [
  {
   "cell_type": "markdown",
   "metadata": {},
   "source": [
    "#A Look Into Affordances of Citi and Capital Bikeshare Stations"
   ]
  },
  {
   "cell_type": "markdown",
   "metadata": {},
   "source": [
    "##Part 1: What are Bikeshares? What are routes?"
   ]
  },
  {
   "cell_type": "markdown",
   "metadata": {},
   "source": [
    "With the rise of traffic congestion in big cities and the need for more environmentally friendly solutions to travel, cities and businesses are looking to a common pastime to solve the need for alternative means to travel. In two large cities, New York City and Washington DC, have been met so positively that stationwise they have grown to become the two largest bikeshare programs in America. "
   ]
  },
  {
   "cell_type": "markdown",
   "metadata": {},
   "source": [
    "With the immense number of riders participating in the programs, different users will find different purposes for the system, whether they are tourists taking a bike out for a day as a convenient means of transportation between attractions or workers in New York City's financial district heading out from East Village in Manhattan in the morning for work. Given the locations of each station and their proximity to other locations in a city, people may use a station for different purposes. Let's begin by quantifying these \"uses\" in the form of bike trips. More specifically, we define a \"trip\" as one entry in our data having a \"start\" and \"end\" station."
   ]
  },
  {
   "cell_type": "markdown",
   "metadata": {},
   "source": [
    "We'll keep the libraries imported in a list here for convenience."
   ]
  },
  {
   "cell_type": "code",
   "execution_count": 202,
   "metadata": {
    "collapsed": false
   },
   "outputs": [],
   "source": [
    "import glob\n",
    "import csv\n",
    "from collections import Counter\n",
    "import numpy as np\n",
    "from matplotlib import pyplot as plt\n",
    "import re\n",
    "\n",
    "%matplotlib inline"
   ]
  },
  {
   "cell_type": "code",
   "execution_count": 163,
   "metadata": {
    "collapsed": true
   },
   "outputs": [],
   "source": [
    "def get_top_trips(path,N=10):\n",
    "    \n",
    "    #the headers on the CSV are slightly different depending on whether the data is from Citi or Capital\n",
    "    if path==\"capital\":\n",
    "        start_station = \"Start station\"\n",
    "        end_station = \"End station\"\n",
    "    if path==\"citi\":\n",
    "        start_station = \"start station name\"\n",
    "        end_station = \"end station name\"\n",
    "        \n",
    "    trips = []\n",
    "    \n",
    "    for filename in glob.glob('./'+path+'/*.csv'):  \n",
    "        with open(filename,'rU') as f:\n",
    "            reader = csv.DictReader(f)\n",
    "            for row in reader:\n",
    "                trips.append((row[start_station],row[end_station]))\n",
    "\n",
    "    return Counter(trips).most_common(N)"
   ]
  },
  {
   "cell_type": "code",
   "execution_count": 164,
   "metadata": {
    "collapsed": false,
    "scrolled": true
   },
   "outputs": [
    {
     "data": {
      "text/plain": [
       "[(('Eastern Market Metro / Pennsylvania Ave & 7th St SE (31613)',\n",
       "   'Lincoln Park / 13th & East Capitol St NE  (31619)'),\n",
       "  4441),\n",
       " (('Calvert St & Woodley Pl NW (31106)',\n",
       "   'Adams Mill & Columbia Rd NW (31104)'),\n",
       "  4349),\n",
       " (('Adams Mill & Columbia Rd NW (31104)',\n",
       "   'Calvert St & Woodley Pl NW (31106)'),\n",
       "  4330),\n",
       " (('Lincoln Park / 13th & East Capitol St NE  (31619)',\n",
       "   'Eastern Market Metro / Pennsylvania Ave & 7th St SE (31613)'),\n",
       "  3462),\n",
       " (('USDA / 12th & Independence Ave SW (31217)',\n",
       "   'USDA / 12th & Independence Ave SW (31217)'),\n",
       "  3332),\n",
       " (('Massachusetts Ave & Dupont Circle NW (31200)', '15th & P St NW (31201)'),\n",
       "  3238),\n",
       " (('16th & U St NW (31229)', 'Massachusetts Ave & Dupont Circle NW (31200)'),\n",
       "  2992),\n",
       " (('15th & P St NW (31201)', 'Massachusetts Ave & Dupont Circle NW (31200)'),\n",
       "  2838),\n",
       " (('Columbus Circle / Union Station (31623)', '13th & H St NE (31611)'), 2647),\n",
       " (('Massachusetts Ave & Dupont Circle NW (31200)',\n",
       "   'Massachusetts Ave & Dupont Circle NW (31200)'),\n",
       "  2553)]"
      ]
     },
     "execution_count": 164,
     "metadata": {},
     "output_type": "execute_result"
    }
   ],
   "source": [
    "get_top_trips(\"capital\")"
   ]
  },
  {
   "cell_type": "code",
   "execution_count": 165,
   "metadata": {
    "collapsed": false
   },
   "outputs": [
    {
     "data": {
      "text/plain": [
       "[(('Central Park S & 6 Ave', 'Central Park S & 6 Ave'), 11860),\n",
       " (('Broadway & W 60 St', 'Broadway & W 60 St'), 5710),\n",
       " (('Grand Army Plaza & Central Park S', 'Grand Army Plaza & Central Park S'),\n",
       "  5428),\n",
       " (('E 43 St & Vanderbilt Ave', 'W 41 St & 8 Ave'), 3769),\n",
       " (('Grand Army Plaza & Central Park S', 'Broadway & W 60 St'), 3326),\n",
       " (('W 17 St & 8 Ave', '8 Ave & W 31 St'), 3244),\n",
       " (('Centre St & Chambers St', 'Centre St & Chambers St'), 3122),\n",
       " (('West St & Chambers St', 'West St & Chambers St'), 3121),\n",
       " (('W 21 St & 6 Ave', '9 Ave & W 22 St'), 3119),\n",
       " (('W 21 St & 6 Ave', 'W 22 St & 10 Ave'), 3023)]"
      ]
     },
     "execution_count": 165,
     "metadata": {},
     "output_type": "execute_result"
    }
   ],
   "source": [
    "get_top_trips(\"citi\")"
   ]
  },
  {
   "cell_type": "markdown",
   "metadata": {},
   "source": [
    "In looking at the top 10 trips for each station, we see some very interesting results. For Capital bikeshare, the top most common trip and the 4th most common trip share the same stations. This could imply some sort of round trip behavior. For example, \"Eastern Market Metro / Pennsylvania Ave & 7th St SE\" is right beside a train station, which could indicate that many people are taking a bike from the train station to Capitol Hil for the day, and when it is time to go home, they take a bike back to the train station. For New York, the most frequent trip begins and ends at Central Park, which might indicate that people are taking the bike for a leisure drive and returning to the station after a stroll around the park. Furthermore, this may indicate that stations are being used for different purposes: some might be used to commute, as seen in the DC example, and others might be used for leisure, as seen in the NYC example."
   ]
  },
  {
   "cell_type": "markdown",
   "metadata": {},
   "source": [
    "But once again, we need to think computationally. Our data is limited in that we have no access to information about the individual people who ride the bikes, and we definitely can't interview people to figure out why people are riding bikes. What can we look at then? Patterns! "
   ]
  },
  {
   "cell_type": "markdown",
   "metadata": {},
   "source": [
    "##Part 2: A Look at Trip Duration as a Metric"
   ]
  },
  {
   "cell_type": "markdown",
   "metadata": {},
   "source": [
    "We'll start by looking at the duration of the bike trips people take. What we're hoping to find from this is that people take different amounts of time biking if they use a station for a specific purpose. One way to reason through this is that people who take a bike to work do not want to come into work looking tired and sweaty. Additionally, due to work schedules, the time taken to go from one station to another would vary less due to the habitual commutes of workers. On the other hand, the amount of time taken to complete a round trip would vary greatly due to the less time-constrained nature of the trips."
   ]
  },
  {
   "cell_type": "code",
   "execution_count": 166,
   "metadata": {
    "collapsed": false
   },
   "outputs": [],
   "source": [
    "def get_duration(path):\n",
    "    #once again, the files are formatted slightly differently...\n",
    "    if path==\"citi\":\n",
    "        trip_duration = 'tripduration'\n",
    "        start_station = 'start station id'\n",
    "        end_station = 'end station id'\n",
    "    if path==\"capital\":\n",
    "        trip_duration = 'Duration'\n",
    "        start_station = 'Start station ID'\n",
    "        end_station = 'End station ID'\n",
    "    duration = []\n",
    "    for filename in glob.glob(\"./\"+path+\"/*.csv\"):\n",
    "        with open(filename,'rU') as f:\n",
    "            reader = csv.DictReader(f)\n",
    "            for row in reader:\n",
    "                duration.append((row[trip_duration],row[start_station],row[end_station]))\n",
    "    return duration"
   ]
  },
  {
   "cell_type": "code",
   "execution_count": 192,
   "metadata": {
    "collapsed": false
   },
   "outputs": [
    {
     "name": "stdout",
     "output_type": "stream",
     "text": [
      "8081216\n",
      "1240575\n"
     ]
    }
   ],
   "source": [
    "citibike = get_duration('citi')\n",
    "print len(citibike)\n",
    "\n",
    "capitalbike = get_duration('capital')\n",
    "print len(capitalbike)"
   ]
  },
  {
   "cell_type": "markdown",
   "metadata": {},
   "source": [
    "We'll define a round trip by looking at the start and end station to see if they are the same. One small issue, though--Capital bikeshare's data is formatted slightly differently, as shown below:"
   ]
  },
  {
   "cell_type": "code",
   "execution_count": 195,
   "metadata": {
    "collapsed": false
   },
   "outputs": [
    {
     "data": {
      "text/plain": [
       "'0h 5min. 46sec.'"
      ]
     },
     "execution_count": 195,
     "metadata": {},
     "output_type": "execute_result"
    }
   ],
   "source": [
    "capital[1][0]"
   ]
  },
  {
   "cell_type": "markdown",
   "metadata": {},
   "source": [
    "Since NYC's data comes in seconds, let's convert DC's data to seconds as well."
   ]
  },
  {
   "cell_type": "code",
   "execution_count": 196,
   "metadata": {
    "collapsed": true
   },
   "outputs": [],
   "source": [
    "def parse_time(time):\n",
    "    hms = re.sub(\"\\s\\s\",\"\",re.sub(\"[a-z].\",\" \",time)).split(\" \")\n",
    "    return int(hms[0])*60+60*int(hms[1])+int(hms[2])"
   ]
  },
  {
   "cell_type": "code",
   "execution_count": 197,
   "metadata": {
    "collapsed": false
   },
   "outputs": [],
   "source": [
    "nyc_round_trip = [int(entry[0]) for entry in citibike if entry[1]==entry[2]]\n",
    "nyc_one_way = [int(entry[0]) for entry in citibike if entry[1]!=entry[2]]\n",
    "\n",
    "dc_round_trip = [parse_time(entry[0]) for entry in capitalbike if entry[1]==entry[2]]\n",
    "dc_one_way = [parse_time(entry[0]) for entry in capitalbike if entry[1]!=entry[2]]"
   ]
  },
  {
   "cell_type": "code",
   "execution_count": 198,
   "metadata": {
    "collapsed": false
   },
   "outputs": [
    {
     "data": {
      "text/plain": [
       "(60, 0)"
      ]
     },
     "execution_count": 198,
     "metadata": {},
     "output_type": "execute_result"
    }
   ],
   "source": [
    "min(nyc_round_trip), min(dc_round_trip)"
   ]
  },
  {
   "cell_type": "code",
   "execution_count": 228,
   "metadata": {
    "collapsed": false
   },
   "outputs": [
    {
     "data": {
      "text/plain": [
       "(571058, 10218)"
      ]
     },
     "execution_count": 228,
     "metadata": {},
     "output_type": "execute_result"
    }
   ],
   "source": [
    "max(nyc_round_trip), max(dc_round_trip)"
   ]
  },
  {
   "cell_type": "markdown",
   "metadata": {},
   "source": [
    "Something isn't quite right. Looking at the data, the shortest time for NYC we're looking at is 60 seconds, and a staggering 0 seconds for DC. At a first glance, this is way too short for a \"round trip\". One possible explanation is that someone realized a bike they rented was malfunctioning and returned it immediately to the station. We'll need to filter out these low times before continuing so that our results aren't skewed. For now, let's say a round trip has to be at least five minutes to count. Likewise, for trip durations, both the Capital and Citi websites urge members to seek out a local bike rental shop if they need a bike for more than 24 hours. The longest trip for the NYC data is almost a week long, which will skew our results as well, so let's remove the long outliers too."
   ]
  },
  {
   "cell_type": "code",
   "execution_count": 281,
   "metadata": {
    "collapsed": false
   },
   "outputs": [
    {
     "data": {
      "text/plain": [
       "(300, 300)"
      ]
     },
     "execution_count": 281,
     "metadata": {},
     "output_type": "execute_result"
    }
   ],
   "source": [
    "nyc_round_trip = [trip for trip in nyc_round_trip if trip>=300 and trip<20000]\n",
    "dc_round_trip = [trip for trip in dc_round_trip if trip>=300 and trip<20000]\n",
    "\n",
    "min(nyc_round_trip), min(dc_round_trip)"
   ]
  },
  {
   "cell_type": "markdown",
   "metadata": {},
   "source": [
    "Let's look at this visually:"
   ]
  },
  {
   "cell_type": "code",
   "execution_count": 287,
   "metadata": {
    "collapsed": false
   },
   "outputs": [],
   "source": [
    "def plot_freq(trip_data,city,nbins=500):\n",
    "\n",
    "    plt.xlim([0, 15500])\n",
    "    hist = plt.hist(trip_data,bins=np.arange(0,max(trip_data),len(trip_data)*1./nbins))\n",
    "    plt.ylim([0,22500])\n",
    "    plt.title(city + ' Round Trip Frequency')\n",
    "    plt.xlabel('Trip Duration in Seconds')\n",
    "    plt.ylabel('Counts')\n",
    "\n",
    "    plt.show()"
   ]
  },
  {
   "cell_type": "code",
   "execution_count": 283,
   "metadata": {
    "collapsed": false
   },
   "outputs": [
    {
     "data": {
      "image/png": "[encoded data removed]",
      "text/plain": [
       "<matplotlib.figure.Figure at 0x185bdec50>"
      ]
     },
     "metadata": {},
     "output_type": "display_data"
    }
   ],
   "source": [
    "plot_freq(nyc_round_trip,\"NYC\",500)"
   ]
  },
  {
   "cell_type": "code",
   "execution_count": 284,
   "metadata": {
    "collapsed": false
   },
   "outputs": [
    {
     "data": {
      "image/png": "[encoded data removed]",
      "text/plain": [
       "<matplotlib.figure.Figure at 0x18138ebd0>"
      ]
     },
     "metadata": {},
     "output_type": "display_data"
    }
   ],
   "source": [
    "plot_freq(dc_round_trip,\"DC\",100)"
   ]
  },
  {
   "cell_type": "markdown",
   "metadata": {
    "collapsed": false
   },
   "source": [
    "Now that we have a better idea of how round trips work, let's take a look at one way trips. First things first, we need to check our data integrity and remove anything that doesn't make sense."
   ]
  },
  {
   "cell_type": "code",
   "execution_count": 306,
   "metadata": {
    "collapsed": false
   },
   "outputs": [
    {
     "data": {
      "text/plain": [
       "(60, 27, 5416640, 57125)"
      ]
     },
     "execution_count": 306,
     "metadata": {},
     "output_type": "execute_result"
    }
   ],
   "source": [
    "min(nyc_one_way),min(dc_one_way),max(nyc_one_way),max(dc_one_way)"
   ]
  },
  {
   "cell_type": "markdown",
   "metadata": {},
   "source": [
    "Some of these numbers are unbelievable. In some other world, a 27 bike ride <i>might</i> be justifiable, but the max one way trip length for NYC is over 62 days, which is completely unreasonable. Let's filter those out."
   ]
  },
  {
   "cell_type": "code",
   "execution_count": 307,
   "metadata": {
    "collapsed": false
   },
   "outputs": [
    {
     "data": {
      "text/plain": [
       "(300, 300, 19997, 18413)"
      ]
     },
     "execution_count": 307,
     "metadata": {},
     "output_type": "execute_result"
    }
   ],
   "source": [
    "nyc_one_way = [trip for trip in nyc_one_way if trip>=300 and trip<20000]\n",
    "dc_one_way = [trip for trip in dc_one_way if trip>=300 and trip<20000]\n",
    "\n",
    "min(nyc_one_way),min(dc_one_way),max(nyc_one_way),max(dc_one_way)"
   ]
  },
  {
   "cell_type": "code",
   "execution_count": 337,
   "metadata": {
    "collapsed": false
   },
   "outputs": [],
   "source": [
    "def plot_freq_one_way(trip_data,city,nbins=500):\n",
    "    \n",
    "    plt.xlim([0, 15000])\n",
    "    hist = plt.hist(trip_data,bins=np.arange(0,max(trip_data),len(trip_data)*1./nbins))\n",
    "    plt.ylim([0,1600000])\n",
    "    plt.title(city + ' One Way Trip Frequency')\n",
    "    plt.xlabel('Trip Duration in Seconds')\n",
    "    plt.ylabel('Counts')\n",
    "\n",
    "    plt.show()"
   ]
  },
  {
   "cell_type": "code",
   "execution_count": 338,
   "metadata": {
    "collapsed": false
   },
   "outputs": [
    {
     "data": {
      "image/png": "[encoded data removed]",
      "text/plain": [
       "<matplotlib.figure.Figure at 0x17dde5e90>"
      ]
     },
     "metadata": {},
     "output_type": "display_data"
    }
   ],
   "source": [
    "plot_freq_one_way(nyc_one_way,\"NYC\",45000)"
   ]
  },
  {
   "cell_type": "code",
   "execution_count": 339,
   "metadata": {
    "collapsed": false
   },
   "outputs": [
    {
     "data": {
      "image/png": "[encoded data removed]",
      "text/plain": [
       "<matplotlib.figure.Figure at 0x185a98b10>"
      ]
     },
     "metadata": {},
     "output_type": "display_data"
    }
   ],
   "source": [
    "plot_freq_one_way(dc_one_way,\"DC\",3500)"
   ]
  },
  {
   "cell_type": "markdown",
   "metadata": {},
   "source": [
    "Looking at the frequencies for each of the locations, there seems to be a general bin for trip duration that has the highest frequency across all the categories. Aside from that, it is difficult to say that frequency alone, if at all, can indicate whether a one way trip or a round trip occurs."
   ]
  },
  {
   "cell_type": "markdown",
   "metadata": {},
   "source": [
    "##Part 3: A Look at Usage Throughout the Day"
   ]
  },
  {
   "cell_type": "markdown",
   "metadata": {},
   "source": [
    "Another idea is to look at how often people use bikes for various purposes throughout the day. One way of looking at this is that because people in the morning may use a bike to go to work, certain bike stations will be more likely to see activity in \"bursts\" at certain points throughout the day, whereas for people who exercise, those bursts may occur at a different time. To visualize this phenomenon, we'll turn to using heatmaps."
   ]
  },
  {
   "cell_type": "markdown",
   "metadata": {},
   "source": [
    "First things first, we need to reformat the data in a usable format. This means we need to start by segmenting our data by hours and day of the week."
   ]
  },
  {
   "cell_type": "code",
   "execution_count": 409,
   "metadata": {
    "collapsed": true
   },
   "outputs": [],
   "source": [
    "from dateutil import parser\n",
    "\n",
    "'''\n",
    "set param='depart' or param='arrive'\n",
    "'''\n",
    "def count_trips(times,param,param2=None):\n",
    "    trips = OrderedDict()\n",
    "    for day in range(0,7):\n",
    "        trips[str(day)] = OrderedDict()\n",
    "        for hour in range(0,24):\n",
    "            trips[str(day)][str(hour)] = 0\n",
    "\n",
    "    counter = 0\n",
    "    for time in times[param]:\n",
    "        hour = parser.parse(time).strftime(\"%-H\")\n",
    "        day = parser.parse(time).strftime(\"%w\")\n",
    "        trips[day][hour] += 1\n",
    "        counter += 1\n",
    "#        if (counter % 20000 == 0):\n",
    "#            print \"Counted {0} trips\".format(counter)\n",
    "    \n",
    "    if param2 is not None:\n",
    "        for time in times[param2]:\n",
    "            hour = parser.parse(time).strftime(\"%-H\")\n",
    "            day = parser.parse(time).strftime(\"%w\")\n",
    "            trips[day][hour] += 1\n",
    "            counter += 1\n",
    "#            if (counter % 20000 == 0):\n",
    "#                print \"Counted {0} trips\".format(counter)\n",
    "            \n",
    "    return trips"
   ]
  },
  {
   "cell_type": "markdown",
   "metadata": {},
   "source": [
    "To visualize the heatmap, we plan on using d3js, so we'll output the files to a .tsv format that our other code can read in."
   ]
  },
  {
   "cell_type": "code",
   "execution_count": 355,
   "metadata": {
    "collapsed": true
   },
   "outputs": [],
   "source": [
    "def write_tsv(file_name, trips_dict):\n",
    "    trips_array = list()\n",
    "    for day in trips_dict:\n",
    "        for hour in trips_dict[day]:\n",
    "            trips_array.append({'day':day,'hour':hour,'count':trips_dict[day][hour]})\n",
    "\n",
    "    with open(file_name, 'w') as f:\n",
    "        dict_writer = csv.DictWriter(f, delimiter='\\t',fieldnames=['day','hour','count'])\n",
    "        dict_writer.writeheader()\n",
    "        dict_writer.writerows(trips_array)\n",
    "        \n"
   ]
  },
  {
   "cell_type": "code",
   "execution_count": 405,
   "metadata": {
    "collapsed": true
   },
   "outputs": [],
   "source": [
    "def get_one_way_dc():\n",
    "    times = dict()\n",
    "    times['depart'] = []\n",
    "    times['arrive'] = []\n",
    "\n",
    "    for filename in glob.glob(\"./capital/*.csv\"):  \n",
    "        with open(filename,'rU') as f:\n",
    "            reader = csv.DictReader(f)\n",
    "            for row in reader:\n",
    "                if row['Start station ID'] == row['End station ID']:\n",
    "                    times['depart'].append(row['Start date'])\n",
    "                    times['arrive'].append(row['End date'])\n",
    "    return times\n",
    "\n",
    "def get_one_way_nyc():\n",
    "    times = dict()\n",
    "    times['depart'] = []\n",
    "    times['arrive'] = []\n",
    "\n",
    "    for filename in glob.glob(\"./citi/*.csv\"):  \n",
    "        with open(filename,'rU') as f:\n",
    "            reader = csv.DictReader(f)\n",
    "            for row in reader:\n",
    "                if row['start station id'] != row['end station id']:\n",
    "                    times['depart'].append(row['starttime'])\n",
    "                    times['arrive'].append(row['stoptime'])\n",
    "    return times\n",
    "\n",
    "def get_round_trip_dc():\n",
    "    times = dict()\n",
    "    times['depart'] = []\n",
    "    times['arrive'] = []\n",
    "\n",
    "    for filename in glob.glob(\"./capital/*.csv\"):  \n",
    "        with open(filename,'rU') as f:\n",
    "            reader = csv.DictReader(f)\n",
    "            for row in reader:\n",
    "                if row['Start station ID'] != row['End station ID']:\n",
    "                    times['depart'].append(row['Start date'])\n",
    "                    times['arrive'].append(row['End date'])\n",
    "    return times\n",
    "\n",
    "def get_round_trip_nyc():\n",
    "    times = dict()\n",
    "    times['depart'] = []\n",
    "    times['arrive'] = []\n",
    "\n",
    "    for filename in glob.glob(\"./citi/*.csv\"):  \n",
    "        with open(filename,'rU') as f:\n",
    "            reader = csv.DictReader(f)\n",
    "            for row in reader:\n",
    "                if row['start station id'] == row['end station id']:\n",
    "                    times['depart'].append(row['starttime'])\n",
    "                    times['arrive'].append(row['stoptime'])\n",
    "    return times"
   ]
  },
  {
   "cell_type": "code",
   "execution_count": 411,
   "metadata": {
    "collapsed": false,
    "scrolled": true
   },
   "outputs": [],
   "source": [
    "dc_one_way_data = get_one_way_dc()\n",
    "dc_one_way_trips = count_trips(dc_one_way_data, 'arrive', 'depart');\n",
    "write_tsv('./data/dc_one_way.tsv',dc_one_way_trips)\n",
    "\n",
    "nyc_one_way_data = get_one_way_nyc()\n",
    "nyc_one_way_trips = count_trips(nyc_one_way_data, 'arrive', 'depart');\n",
    "write_tsv('./data/nyc_one_way.tsv',nyc_one_way_trips)\n",
    "\n",
    "dc_round_trip_data = get_round_trip_dc()\n",
    "dc_round_trips = count_trips(dc_round_trip_data, 'arrive', 'depart');\n",
    "write_tsv('./data/dc_round_trips.tsv',dc_round_trips)\n",
    "\n",
    "nyc_round_trip_data = get_round_trip_nyc()\n",
    "nyc_round_trips = count_trips(nyc_round_trip_data, 'arrive','depart');\n",
    "write_tsv('./data/nyc_round_trips.tsv',nyc_round_trips)"
   ]
  },
  {
   "cell_type": "markdown",
   "metadata": {},
   "source": [
    "Thanks to the \"%%javascript\" magic word, we can embed JavaScript right into the cells! First thing we want to do is import d3js into the notebook."
   ]
  },
  {
   "cell_type": "code",
   "execution_count": 418,
   "metadata": {
    "collapsed": false
   },
   "outputs": [
    {
     "data": {
      "application/javascript": [
       "require.config({\n",
       "  paths: {\n",
       "    d3: \"http://d3js.org/d3.v3.min\"\n",
       "  }\n",
       "});\n",
       "\n",
       "require([\"d3\"], function(d3) {\n",
       "  console.log(d3.version);\n",
       "});"
      ],
      "text/plain": [
       "<IPython.core.display.Javascript object>"
      ]
     },
     "metadata": {},
     "output_type": "display_data"
    }
   ],
   "source": [
    "%%javascript\n",
    "require.config({\n",
    "  paths: {\n",
    "    d3: \"http://d3js.org/d3.v3.min\"\n",
    "  }\n",
    "});\n",
    "\n",
    "require([\"d3\"], function(d3) {\n",
    "  console.log(d3.version);\n",
    "});"
   ]
  },
  {
   "cell_type": "markdown",
   "metadata": {},
   "source": [
    "The \"%%html\" magic word allows us to style our HTML and SVG that we are about to create. Running this cell after the HTML and SVG is created will change the styling to match any changes made to the cell. It can also be run before running the HTML and SVG to predefine styles."
   ]
  },
  {
   "cell_type": "code",
   "execution_count": 419,
   "metadata": {
    "collapsed": false
   },
   "outputs": [
    {
     "data": {
      "text/html": [
       "<style>\n",
       "  rect.bordered {\n",
       "    stroke: #E6E6E6;\n",
       "    stroke-width:2px;   \n",
       "  }\n",
       "  text.mono {\n",
       "    font-size: 9pt;\n",
       "    font-family: Consolas, courier;\n",
       "    fill: #aaa;\n",
       "  }\n",
       "  text.axis-workweek {\n",
       "    fill: #000;\n",
       "  }\n",
       "  text.axis-worktime {\n",
       "    fill: #000;\n",
       "  }\n",
       "  body {\n",
       "    font-size: 9pt;\n",
       "    font-family: Consolas, courier;\n",
       "    fill: #aaa;\n",
       "  }\n",
       "</style>"
      ],
      "text/plain": [
       "<IPython.core.display.HTML object>"
      ]
     },
     "metadata": {},
     "output_type": "display_data"
    }
   ],
   "source": [
    "%%html\n",
    "<style>\n",
    "  rect.bordered {\n",
    "    stroke: #E6E6E6;\n",
    "    stroke-width:2px;   \n",
    "  }\n",
    "  text.mono {\n",
    "    font-size: 9pt;\n",
    "    font-family: Consolas, courier;\n",
    "    fill: #aaa;\n",
    "  }\n",
    "  text.axis-workweek {\n",
    "    fill: #000;\n",
    "  }\n",
    "  text.axis-worktime {\n",
    "    fill: #000;\n",
    "  }\n",
    "  body {\n",
    "    font-size: 9pt;\n",
    "    font-family: Consolas, courier;\n",
    "    fill: #aaa;\n",
    "  }\n",
    "</style>"
   ]
  },
  {
   "cell_type": "markdown",
   "metadata": {},
   "source": [
    "With our styles in place, we have to define our div elements so that d3 can populate them. The code to do that is located below these images, as once again, running a cell in a notebook can apply changes retroactively. Unforutnately, due to security reasons, iPython does not allow arbitrary execution of JavaScript code unless it's on your own machine, so the code you see below must be run on your own machine to display the graphs inline. Images of the graphs are embedded after the code for viewing, though!"
   ]
  },
  {
   "cell_type": "code",
   "execution_count": 420,
   "metadata": {
    "collapsed": false
   },
   "outputs": [
    {
     "data": {
      "text/html": [
       "\n",
       "One-way trip in DC\n",
       "<div id=\"dccommuter\"></div>\n",
       "Round trip in DC\n",
       "<div id=\"dcleisure\"></div>\n",
       "One-way trip in NYC\n",
       "<div id=\"nyccommuter\"></div>\n",
       "Round trip in NYC\n",
       "<div id=\"nycleisure\"></div>"
      ],
      "text/plain": [
       "<IPython.core.display.HTML object>"
      ]
     },
     "metadata": {},
     "output_type": "display_data"
    }
   ],
   "source": [
    "%%html\n",
    "\n",
    "One-way trip in DC\n",
    "<div id=\"dccommuter\"></div>\n",
    "Round trip in DC\n",
    "<div id=\"dcleisure\"></div>\n",
    "One-way trip in NYC\n",
    "<div id=\"nyccommuter\"></div>\n",
    "Round trip in NYC\n",
    "<div id=\"nycleisure\"></div>"
   ]
  },
  {
   "cell_type": "code",
   "execution_count": 421,
   "metadata": {
    "collapsed": false
   },
   "outputs": [
    {
     "data": {
      "application/javascript": [
       "\n",
       "//$(document).ready(function(){\n",
       "draw_heatmap(\"./data/dc_round_trips.tsv\", \"#dccommuter\");\n",
       "draw_heatmap(\"./data/dc_one_way.tsv\", \"#dcleisure\");\n",
       "draw_heatmap(\"./data/nyc_one_way.tsv\", \"#nyccommuter\");\n",
       "draw_heatmap(\"./data/nyc_round_trips.tsv\", \"#nycleisure\");\n",
       "//});\n",
       "var margin = { top: 50, right: 0, bottom: 100, left: 30 },\n",
       "  width = 960 - margin.left - margin.right,\n",
       "  height = 430 - margin.top - margin.bottom,\n",
       "  gridSize = Math.floor(width / 24),\n",
       "  legendElementWidth = gridSize*2,\n",
       "  buckets = 9,\n",
       "  colors = [\"#ffffd9\",\"#edf8b1\",\"#c7e9b4\",\"#7fcdbb\",\"#41b6c4\",\"#1d91c0\",\"#225ea8\",\"#253494\",\"#081d58\"], // alternatively colorbrewer.YlGnBu[9]\n",
       "  // colors = [\"#ffffd9\",\"#edf8b1\",\"#c7e9b4\",\"#7fcdbb\",\"#41b6c4\",\"#1d91c0\",\"#225ea8\",\"#253494\",\"#081d58\"], // alternatively colorbrewer.YlGnBu[9]\n",
       "  days = [\"Su\", \"Mo\", \"Tu\", \"We\", \"Th\", \"Fr\", \"Sa\"],\n",
       "  times = [\"1a\", \"2a\", \"3a\", \"4a\", \"5a\", \"6a\", \"7a\", \"8a\", \"9a\", \"10a\", \"11a\", \"12a\", \"1p\", \"2p\", \"3p\", \"4p\", \"5p\", \"6p\", \"7p\", \"8p\", \"9p\", \"10p\", \"11p\", \"12p\"];\n",
       "function draw_heatmap(source, div) {\n",
       "    d3.tsv(source,\n",
       "      function(d) {\n",
       "        return {\n",
       "          day: +d.day,\n",
       "          hour: +d.hour,\n",
       "          value: +d.count\n",
       "        };\n",
       "      },\n",
       "      function(error, data) {\n",
       "        var maxCount = d3.max(data, function (d) { return d.value; });\n",
       "        var colorScale = d3.scale.quantile()\n",
       "            .domain([0, buckets - 1, 100])\n",
       "            .range(colors);\n",
       "        var svg = d3.select(div).append(\"svg\")\n",
       "            .attr(\"width\", width + margin.left + margin.right)\n",
       "            .attr(\"height\", height + margin.top + margin.bottom)\n",
       "            .append(\"g\")\n",
       "            .attr(\"transform\", \"translate(\" + margin.left + \",\" + margin.top + \")\");\n",
       "        var dayLabels = svg.selectAll(\".dayLabel\")\n",
       "            .data(days)\n",
       "            .enter().append(\"text\")\n",
       "              .text(function (d) { return d; })\n",
       "              .attr(\"x\", 0)\n",
       "              .attr(\"y\", function (d, i) { return i * gridSize; })\n",
       "              .style(\"text-anchor\", \"end\")\n",
       "              .attr(\"transform\", \"translate(-6,\" + gridSize / 1.5 + \")\")\n",
       "              .attr(\"class\", function (d, i) { return ((i >= 1 && i <= 5) ? \"dayLabel mono axis axis-workweek\" : \"dayLabel mono axis\"); });\n",
       "        var timeLabels = svg.selectAll(\".timeLabel\")\n",
       "            .data(times)\n",
       "            .enter().append(\"text\")\n",
       "              .text(function(d) { return d; })\n",
       "              .attr(\"x\", function(d, i) { return i * gridSize; })\n",
       "              .attr(\"y\", 0)\n",
       "              .style(\"text-anchor\", \"middle\")\n",
       "              .attr(\"transform\", \"translate(\" + gridSize / 2 + \", -6)\")\n",
       "              .attr(\"class\", function(d, i) { return ((i >= 7 && i <= 16) ? \"timeLabel mono axis axis-worktime\" : \"timeLabel mono axis\"); });\n",
       "        var heatMap = svg.selectAll(\".hour\")\n",
       "            .data(data)\n",
       "            .enter().append(\"rect\")\n",
       "            // .attr(\"x\", function(d) { return (d.hour - 1) * gridSize; })\n",
       "            // .attr(\"y\", function(d) { return (d.day - 1) * gridSize; })\n",
       "            .attr(\"x\", function(d) { return (d.hour) * gridSize; })\n",
       "            .attr(\"y\", function(d) { return (d.day) * gridSize; })\n",
       "            .attr(\"rx\", 4)\n",
       "            .attr(\"ry\", 4)\n",
       "            .attr(\"class\", \"hour bordered\")\n",
       "            .attr(\"width\", gridSize)\n",
       "            .attr(\"height\", gridSize)\n",
       "            .style(\"fill\", colors[0]);\n",
       "        heatMap.transition().duration(1000)\n",
       "            .style(\"fill\", function(d) { return colorScale(d.value * 100 / maxCount); });\n",
       "        heatMap.append(\"title\").text(function(d) { return Math.round(d.value * 100 / maxCount) + \" %\"; });\n",
       "\n",
       "        var legend = svg.selectAll(\".legend\")\n",
       "            .data([0].concat(colorScale.quantiles()), function(d) { return d; })\n",
       "            .enter().append(\"g\")\n",
       "            .attr(\"class\", \"legend\");\n",
       "        legend.append(\"rect\")\n",
       "          .attr(\"x\", function(d, i) { return legendElementWidth * i; })\n",
       "          .attr(\"y\", height)\n",
       "          .attr(\"width\", legendElementWidth)\n",
       "          .attr(\"height\", gridSize / 2)\n",
       "          .style(\"fill\", function(d, i) { return colors[i]; });\n",
       "        legend.append(\"text\")\n",
       "          .attr(\"class\", \"mono\")\n",
       "          .text(function(d) { return \"≥ \" + (Math.round(d)) + \" %\"; })\n",
       "          .attr(\"x\", function(d, i) { return legendElementWidth * i; })\n",
       "          .attr(\"y\", height + gridSize);\n",
       "        svg.append(\"text\")\n",
       "          .text(\"percentage of riders\")\n",
       "          .attr(\"x\", function(d) { return legendElementWidth * 9; })\n",
       "          .attr(\"y\", height + gridSize)\n",
       "    });\n",
       "}"
      ],
      "text/plain": [
       "<IPython.core.display.Javascript object>"
      ]
     },
     "metadata": {},
     "output_type": "display_data"
    }
   ],
   "source": [
    "%%javascript\n",
    "\n",
    "//$(document).ready(function(){\n",
    "draw_heatmap(\"./data/dc_round_trips.tsv\", \"#dccommuter\");\n",
    "draw_heatmap(\"./data/dc_one_way.tsv\", \"#dcleisure\");\n",
    "draw_heatmap(\"./data/nyc_one_way.tsv\", \"#nyccommuter\");\n",
    "draw_heatmap(\"./data/nyc_round_trips.tsv\", \"#nycleisure\");\n",
    "//});\n",
    "var margin = { top: 50, right: 0, bottom: 100, left: 30 },\n",
    "  width = 960 - margin.left - margin.right,\n",
    "  height = 430 - margin.top - margin.bottom,\n",
    "  gridSize = Math.floor(width / 24),\n",
    "  legendElementWidth = gridSize*2,\n",
    "  buckets = 9,\n",
    "  colors = [\"#ffffd9\",\"#edf8b1\",\"#c7e9b4\",\"#7fcdbb\",\"#41b6c4\",\"#1d91c0\",\"#225ea8\",\"#253494\",\"#081d58\"], // alternatively colorbrewer.YlGnBu[9]\n",
    "  // colors = [\"#ffffd9\",\"#edf8b1\",\"#c7e9b4\",\"#7fcdbb\",\"#41b6c4\",\"#1d91c0\",\"#225ea8\",\"#253494\",\"#081d58\"], // alternatively colorbrewer.YlGnBu[9]\n",
    "  days = [\"Su\", \"Mo\", \"Tu\", \"We\", \"Th\", \"Fr\", \"Sa\"],\n",
    "  times = [\"1a\", \"2a\", \"3a\", \"4a\", \"5a\", \"6a\", \"7a\", \"8a\", \"9a\", \"10a\", \"11a\", \"12a\", \"1p\", \"2p\", \"3p\", \"4p\", \"5p\", \"6p\", \"7p\", \"8p\", \"9p\", \"10p\", \"11p\", \"12p\"];\n",
    "function draw_heatmap(source, div) {\n",
    "    d3.tsv(source,\n",
    "      function(d) {\n",
    "        return {\n",
    "          day: +d.day,\n",
    "          hour: +d.hour,\n",
    "          value: +d.count\n",
    "        };\n",
    "      },\n",
    "      function(error, data) {\n",
    "        var maxCount = d3.max(data, function (d) { return d.value; });\n",
    "        var colorScale = d3.scale.quantile()\n",
    "            .domain([0, buckets - 1, 100])\n",
    "            .range(colors);\n",
    "        var svg = d3.select(div).append(\"svg\")\n",
    "            .attr(\"width\", width + margin.left + margin.right)\n",
    "            .attr(\"height\", height + margin.top + margin.bottom)\n",
    "            .append(\"g\")\n",
    "            .attr(\"transform\", \"translate(\" + margin.left + \",\" + margin.top + \")\");\n",
    "        var dayLabels = svg.selectAll(\".dayLabel\")\n",
    "            .data(days)\n",
    "            .enter().append(\"text\")\n",
    "              .text(function (d) { return d; })\n",
    "              .attr(\"x\", 0)\n",
    "              .attr(\"y\", function (d, i) { return i * gridSize; })\n",
    "              .style(\"text-anchor\", \"end\")\n",
    "              .attr(\"transform\", \"translate(-6,\" + gridSize / 1.5 + \")\")\n",
    "              .attr(\"class\", function (d, i) { return ((i >= 1 && i <= 5) ? \"dayLabel mono axis axis-workweek\" : \"dayLabel mono axis\"); });\n",
    "        var timeLabels = svg.selectAll(\".timeLabel\")\n",
    "            .data(times)\n",
    "            .enter().append(\"text\")\n",
    "              .text(function(d) { return d; })\n",
    "              .attr(\"x\", function(d, i) { return i * gridSize; })\n",
    "              .attr(\"y\", 0)\n",
    "              .style(\"text-anchor\", \"middle\")\n",
    "              .attr(\"transform\", \"translate(\" + gridSize / 2 + \", -6)\")\n",
    "              .attr(\"class\", function(d, i) { return ((i >= 7 && i <= 16) ? \"timeLabel mono axis axis-worktime\" : \"timeLabel mono axis\"); });\n",
    "        var heatMap = svg.selectAll(\".hour\")\n",
    "            .data(data)\n",
    "            .enter().append(\"rect\")\n",
    "            // .attr(\"x\", function(d) { return (d.hour - 1) * gridSize; })\n",
    "            // .attr(\"y\", function(d) { return (d.day - 1) * gridSize; })\n",
    "            .attr(\"x\", function(d) { return (d.hour) * gridSize; })\n",
    "            .attr(\"y\", function(d) { return (d.day) * gridSize; })\n",
    "            .attr(\"rx\", 4)\n",
    "            .attr(\"ry\", 4)\n",
    "            .attr(\"class\", \"hour bordered\")\n",
    "            .attr(\"width\", gridSize)\n",
    "            .attr(\"height\", gridSize)\n",
    "            .style(\"fill\", colors[0]);\n",
    "        heatMap.transition().duration(1000)\n",
    "            .style(\"fill\", function(d) { return colorScale(d.value * 100 / maxCount); });\n",
    "        heatMap.append(\"title\").text(function(d) { return Math.round(d.value * 100 / maxCount) + \" %\"; });\n",
    "\n",
    "        var legend = svg.selectAll(\".legend\")\n",
    "            .data([0].concat(colorScale.quantiles()), function(d) { return d; })\n",
    "            .enter().append(\"g\")\n",
    "            .attr(\"class\", \"legend\");\n",
    "        legend.append(\"rect\")\n",
    "          .attr(\"x\", function(d, i) { return legendElementWidth * i; })\n",
    "          .attr(\"y\", height)\n",
    "          .attr(\"width\", legendElementWidth)\n",
    "          .attr(\"height\", gridSize / 2)\n",
    "          .style(\"fill\", function(d, i) { return colors[i]; });\n",
    "        legend.append(\"text\")\n",
    "          .attr(\"class\", \"mono\")\n",
    "          .text(function(d) { return \"≥ \" + (Math.round(d)) + \" %\"; })\n",
    "          .attr(\"x\", function(d, i) { return legendElementWidth * i; })\n",
    "          .attr(\"y\", height + gridSize);\n",
    "        svg.append(\"text\")\n",
    "          .text(\"percentage of riders\")\n",
    "          .attr(\"x\", function(d) { return legendElementWidth * 9; })\n",
    "          .attr(\"y\", height + gridSize)\n",
    "    });\n",
    "}"
   ]
  },
  {
   "cell_type": "markdown",
   "metadata": {},
   "source": [
    "With the code aside, let's focus on the heatmaps themselves. A couple things stand out. First of all, the darkest regions for the one-way trips are at exactly 9am and from 6-7pm. This happens to overlap with the rush-hour times, indicating that the majority of one-way trips in both DC and NYC are for the purpose of commuting on weekdays. On weekends, most trips occur in the afternoon and early evening. For the round trips, there are no real patterns discernable for the weekdays, although on the weekends, there is a very high frequency of riders, which might indicate that those riders choose to ride bikes for leisurely purposes."
   ]
  },
  {
   "cell_type": "markdown",
   "metadata": {},
   "source": [
    "<img src='https://raw.githubusercontent.com/girikuncoro/bikeshare/master/viz/one_way_dc.png'/>"
   ]
  },
  {
   "cell_type": "markdown",
   "metadata": {},
   "source": [
    "<img src='https://raw.githubusercontent.com/girikuncoro/bikeshare/master/viz/round_trip_dc.png'/>"
   ]
  },
  {
   "cell_type": "markdown",
   "metadata": {},
   "source": [
    "<img src='https://raw.githubusercontent.com/girikuncoro/bikeshare/master/viz/one_way_nyc.png'/>"
   ]
  },
  {
   "cell_type": "markdown",
   "metadata": {},
   "source": [
    "<img src='https://raw.githubusercontent.com/girikuncoro/bikeshare/master/viz/round_trip_nyc.png'/>"
   ]
  }
 ],
 "metadata": {
  "kernelspec": {
   "display_name": "Python 2",
   "language": "python",
   "name": "python2"
  },
  "language_info": {
   "codemirror_mode": {
    "name": "ipython",
    "version": 2
   },
   "file_extension": ".py",
   "mimetype": "text/x-python",
   "name": "python",
   "nbconvert_exporter": "python",
   "pygments_lexer": "ipython2",
   "version": "2.7.9"
  }
 },
 "nbformat": 4,
 "nbformat_minor": 0
}
